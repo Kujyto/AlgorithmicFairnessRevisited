{
 "metadata": {
  "name": "",
  "signature": "sha256:95b4f97811d0f738153be3aa7fec7420e47810b210ab3e37847ec0d4364cd66d"
 },
 "nbformat": 3,
 "nbformat_minor": 0,
 "worksheets": [
  {
   "cells": [
    {
     "cell_type": "heading",
     "level": 1,
     "metadata": {},
     "source": [
      "FAIRNESS MEASURES"
     ]
    },
    {
     "cell_type": "markdown",
     "metadata": {},
     "source": [
      "In this notebook, I define some common measures of algorithmic fairness, and generate the tables for my Master thesis."
     ]
    },
    {
     "cell_type": "code",
     "collapsed": false,
     "input": [
      "import pandas as pd\n",
      "import modules.fairness_measures as fm\n",
      "\n",
      "# ajouts\n",
      "import random\n",
      "import numpy as np"
     ],
     "language": "python",
     "metadata": {},
     "outputs": [],
     "prompt_number": 1
    },
    {
     "cell_type": "heading",
     "level": 2,
     "metadata": {},
     "source": [
      "Comparison between MI and SP (Section 2.2.2 - Table 2)"
     ]
    },
    {
     "cell_type": "code",
     "collapsed": false,
     "input": [
      "import imp\n",
      "imp.reload(fm)\n",
      "\n",
      "#Data\n",
      "df1 = pd.DataFrame([{'Male': 20, 'Female': 5},{'Male': 9980, 'Female': 9995},{'Male': 10000, 'Female': 10000}], index=['President', 'Manager', 'Employee'])\n",
      "df2 = pd.DataFrame([{'Male': 20, 'Female': 20},{'Male': 9970, 'Female': 9995},{'Male': 10010, 'Female': 9985}], index=['President', 'Manager', 'Employee'])\n",
      "\n",
      "\n",
      "print df1\n",
      "print '-'*24\n",
      "print 'D_TV = {:.2e}'.format(fm.statistical_parity(df1))\n",
      "print 'I = {:.2e}'.format(fm.mutual_info(df1, norm=True))\n",
      "G, p, _, _ = fm.G_test(df1)\n",
      "print 'G = {}, p = {}'.format(G,p)\n",
      "\n",
      "print '='*24\n",
      "\n",
      "print df2\n",
      "print '-'*24\n",
      "print 'D_TV = {:.2e}'.format(fm.statistical_parity(df2))\n",
      "print 'I = {:.2e}'.format(fm.mutual_info(df2, norm=True))\n",
      "G, p, _, _ = fm.G_test(df2)\n",
      "print 'G = {}, p = {}'.format(G,p)"
     ],
     "language": "python",
     "metadata": {},
     "outputs": [
      {
       "output_type": "stream",
       "stream": "stdout",
       "text": [
        "           Female   Male\n",
        "President       5     20\n",
        "Manager      9995   9980\n",
        "Employee    10000  10000\n",
        "------------------------\n",
        "D_TV = 7.50e-04\n",
        "I = 1.74e-04\n",
        "G = 9.64850193225, p = 0.00803256828337\n",
        "========================\n",
        "           Female   Male\n",
        "President      20     20\n",
        "Manager      9995   9970\n",
        "Employee     9985  10010\n",
        "------------------------\n",
        "D_TV = 1.25e-03\n",
        "I = 1.13e-06\n",
        "G = 0.0625626141473, p = 0.969202891095\n"
       ]
      }
     ],
     "prompt_number": 2
    },
    {
     "cell_type": "heading",
     "level": 2,
     "metadata": {},
     "source": [
      "Statistical Significance (Section 2.2.3 - Table 3)"
     ]
    },
    {
     "cell_type": "code",
     "collapsed": false,
     "input": [
      "p_female = 0.5              # P[Female]\n",
      "p_hired_m = 0.51            # P[Hired | Male]\n",
      "p_hired_f = 0.49            # P[Hired | Female]\n",
      "Ns = [200, 20000, 2000000]  # dataset sizes\n",
      "\n",
      "random.seed(1)\n",
      "\n",
      "# True distribution\n",
      "true = pd.DataFrame([{'Male': 51, 'Female': 49},{'Male': 49, 'Female': 51}], index=['Hired', 'Not Hired']) \n",
      "print true\n",
      "print '-'*30\n",
      "print 'True I = {:.3e}'.format(fm.mutual_info(true, norm=0))\n",
      "print 'True slift = {:.3f}'.format(fm.slifts(true)[0])\n",
      "print 'True slift_d = {:.3f}'.format(fm.slifts(true)[1])\n",
      "print '='*30\n",
      "\n",
      "for N in Ns:\n",
      "    \n",
      "    # sample N individuals from the distribution\n",
      "    num_female = np.random.binomial(N, p_female)\n",
      "    num_male = N-num_female\n",
      "    num_male_hired = np.random.binomial(num_male, p_hired_m)\n",
      "    num_female_hired = np.random.binomial(num_female, p_hired_f)\n",
      "\n",
      "    df = pd.DataFrame([{'Male': num_male_hired, 'Female': num_female_hired},{'Male': num_male-num_male_hired, 'Female': num_female-num_female_hired}], index=['Hired', 'Not Hired'])\n",
      "    df2 = pd.DataFrame([{'Male': num_male, 'Female': num_female},{'Male': \"%.2f\" % ((100.0*num_male_hired)/num_male), 'Female': \"%.2f\" % ((100.0*num_female_hired)/num_female)}], index=['Users', 'Hired'])\n",
      "    \n",
      "    print df\n",
      "    print '-'*30\n",
      "    \n",
      "    #slifts\n",
      "    res = fm.slifts(df, ci=True, level=0.95)\n",
      "    #mutual information\n",
      "    mi = fm.mutual_info(df, norm=False, ci=True, level=0.95)\n",
      "    # G-Test\n",
      "    G, p, _, _ = fm.G_test(df)\n",
      "    \n",
      "    print 'I = [{:.3e}, {:.3e}]'.format(mi[0]-mi[1], mi[0]+mi[1])\n",
      "    print 'slift = {:.3f} \u00b1 {:.3f}'.format(res[0],res[2])\n",
      "    print 'slift_d = {:.3f} \u00b1 {:.3f}'.format(res[1],res[3])\n",
      "    print 'p-value = {}'.format(p)\n",
      "    \n",
      "    print '='*30"
     ],
     "language": "python",
     "metadata": {},
     "outputs": [
      {
       "output_type": "stream",
       "stream": "stdout",
       "text": [
        "           Female  Male\n",
        "Hired          49    51\n",
        "Not Hired      51    49\n",
        "------------------------------\n",
        "True I = 2.000e-04\n",
        "True slift = 1.041\n",
        "True slift_d = 0.020\n",
        "==============================\n",
        "           Female  Male\n",
        "Hired          42    38\n",
        "Not Hired      69    51\n",
        "------------------------------\n",
        "I = [-5.615e-03, 8.042e-03]\n",
        "slift = 1.085 \u00b1 2.778\n",
        "slift_d = 0.049 \u00b1 1.413\n",
        "p-value = 0.485988017396\n",
        "==============================\n",
        "           Female  Male\n",
        "Hired        4881  5085\n",
        "Not Hired    5175  4859\n",
        "------------------------------\n",
        "I = [-2.248e-05, 6.976e-04]\n",
        "slift = 1.053 \u00b1 2.773\n",
        "slift_d = 0.026 \u00b1 1.386\n",
        "p-value = 0.00023827176579\n",
        "==============================\n",
        "           Female    Male\n",
        "Hired      490490  510122\n",
        "Not Hired  509880  489508\n",
        "------------------------------\n",
        "I = [1.723e-04, 2.278e-04]\n",
        "slift = 1.041 \u00b1 2.773\n",
        "slift_d = 0.020 \u00b1 1.386\n",
        "p-value = 4.80441833189e-176\n",
        "==============================\n"
       ]
      }
     ],
     "prompt_number": 3
    },
    {
     "cell_type": "code",
     "collapsed": false,
     "input": [],
     "language": "python",
     "metadata": {},
     "outputs": [],
     "prompt_number": 3
    },
    {
     "cell_type": "code",
     "collapsed": false,
     "input": [],
     "language": "python",
     "metadata": {},
     "outputs": [],
     "prompt_number": 3
    },
    {
     "cell_type": "code",
     "collapsed": false,
     "input": [],
     "language": "python",
     "metadata": {},
     "outputs": []
    }
   ],
   "metadata": {}
  }
 ]
}