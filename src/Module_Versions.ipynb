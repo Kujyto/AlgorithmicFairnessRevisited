{
 "metadata": {
  "name": "",
  "signature": "sha256:54b1924f74507abf402893631f0ec85943a12034b4ec4ff90da66bd555a56b0a"
 },
 "nbformat": 3,
 "nbformat_minor": 0,
 "worksheets": [
  {
   "cells": [
    {
     "cell_type": "heading",
     "level": 1,
     "metadata": {},
     "source": [
      "Print all module versions"
     ]
    },
    {
     "cell_type": "code",
     "collapsed": false,
     "input": [
      "import pandas\n",
      "import numpy\n",
      "import sklearn\n",
      "import statsmodels\n",
      "import scipy\n",
      "import IPython\n",
      "import platform\n",
      "import pydot\n",
      "\n",
      "print 'Python\\t\\t {}'.format(platform.python_version())\n",
      "print 'IPython\\t\\t {}'.format(IPython.__version__)\n",
      "print '-'*25\n",
      "print 'Numpy\\t\\t {}'.format(numpy.__version__)\n",
      "print 'Pandas\\t\\t {}'.format(pandas.__version__)\n",
      "print 'Scikit\\t\\t {}'.format(sklearn.__version__)\n",
      "print 'Scipy\\t\\t {}'.format(scipy.__version__)\n",
      "print 'StatsModels\\t {}'.format(statsmodels.__version__)\n",
      "print 'PyDot\\t\\t {}'.format(pydot.__version__)\n",
      "\n"
     ],
     "language": "python",
     "metadata": {},
     "outputs": [
      {
       "output_type": "stream",
       "stream": "stdout",
       "text": [
        "Python\t\t 2.7.12\n",
        "IPython\t\t 2.4.1\n",
        "-------------------------\n",
        "Numpy\t\t 1.12.1\n",
        "Pandas\t\t 0.19.2\n",
        "Scikit\t\t 0.18.1\n",
        "Scipy\t\t 0.19.0\n",
        "StatsModels\t 0.8.0\n",
        "PyDot\t\t 1.0.29\n"
       ]
      }
     ],
     "prompt_number": 1
    },
    {
     "cell_type": "code",
     "collapsed": false,
     "input": [],
     "language": "python",
     "metadata": {},
     "outputs": []
    }
   ],
   "metadata": {}
  }
 ]
}